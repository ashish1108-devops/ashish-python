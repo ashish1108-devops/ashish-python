{
 "cells": [
  {
   "cell_type": "code",
   "execution_count": 3,
   "id": "4db1ea5f-3292-4d64-92c6-458099ad1c19",
   "metadata": {},
   "outputs": [
    {
     "name": "stdin",
     "output_type": "stream",
     "text": [
      "Enter the Number:  2\n",
      "Enter the range:  10\n",
      "Enter a no that you want to the multiples:  7\n"
     ]
    },
    {
     "name": "stdout",
     "output_type": "stream",
     "text": [
      "14\n",
      "21\n",
      "28\n",
      "35\n",
      "42\n",
      "49\n",
      "56\n",
      "63\n",
      "70\n"
     ]
    }
   ],
   "source": [
    "#1.\tWrite a program to generate all possible multiples of a number provided by the user.\n",
    "\n",
    "a=int(input(\"Enter the Number: \"))\n",
    "num=int(input(\"Enter the range: \"))\n",
    "m=int(input(\"Enter a no that you want to the multiples: \"))\n",
    "while a<=num:\n",
    "    multi=a*m\n",
    "    print(multi)\n",
    "    a+=1"
   ]
  },
  {
   "cell_type": "code",
   "execution_count": 5,
   "id": "e670dfb7-a7f9-4888-856e-8b30b3104652",
   "metadata": {},
   "outputs": [
    {
     "name": "stdin",
     "output_type": "stream",
     "text": [
      "Enter the Number:  50\n",
      "Enter the range:  145\n",
      "Enter a no that you want to the multiples:  9\n"
     ]
    },
    {
     "name": "stdout",
     "output_type": "stream",
     "text": [
      "54\n",
      "63\n",
      "72\n",
      "81\n",
      "90\n",
      "99\n",
      "108\n",
      "117\n",
      "126\n",
      "135\n",
      "144\n"
     ]
    }
   ],
   "source": [
    "#1.\tWrite a program to generate all possible multiples of a number provided by the user.\n",
    "\n",
    "#2nd Method:\n",
    "    \n",
    "a=int(input(\"Enter the Number: \"))\n",
    "num=int(input(\"Enter the range: \"))\n",
    "m=int(input(\"Enter a no that you want to the multiples: \"))\n",
    "while a<=num:\n",
    "    if a%m==0:\n",
    "        print(a)\n",
    "        a+=1\n",
    "    else:\n",
    "        a+=1"
   ]
  },
  {
   "cell_type": "code",
   "execution_count": 10,
   "id": "d6a0a442-da43-4d7e-9e04-b05253826182",
   "metadata": {},
   "outputs": [
    {
     "name": "stdin",
     "output_type": "stream",
     "text": [
      "Enter a number that you want to calculate factorial:  9\n"
     ]
    },
    {
     "name": "stdout",
     "output_type": "stream",
     "text": [
      "362880\n"
     ]
    }
   ],
   "source": [
    "#2.\tWrite a program to calculate the factorial of a number provided by the user.\n",
    "num=int(input(\"Enter a number that you want to calculate factorial: \"))\n",
    "i=1\n",
    "fact=1\n",
    "while i<=num:\n",
    "    fact=num*fact\n",
    "    num-=1\n",
    "print(fact)"
   ]
  },
  {
   "cell_type": "code",
   "execution_count": 18,
   "id": "6c645b86-dd76-43cd-b747-28d9e538ff10",
   "metadata": {},
   "outputs": [
    {
     "name": "stdout",
     "output_type": "stream",
     "text": [
      "11\n",
      "13\n",
      "15\n",
      "17\n",
      "19\n",
      "21\n",
      "23\n",
      "25\n"
     ]
    }
   ],
   "source": [
    "#3.\tWrite a program to display all odd and even numbers in the range between 10 and 25.\n",
    "\n",
    "start=10\n",
    "end=25\n",
    "while start<=end:\n",
    "    if start%2!=0:\n",
    "        print(start)\n",
    "    start+=1"
   ]
  },
  {
   "cell_type": "code",
   "execution_count": 17,
   "id": "bd735219-85af-4a1b-b046-f3b7655161af",
   "metadata": {},
   "outputs": [
    {
     "name": "stdin",
     "output_type": "stream",
     "text": [
      "Enter the no. to print that table:  3\n"
     ]
    },
    {
     "name": "stdout",
     "output_type": "stream",
     "text": [
      "3 X 1 = 3\n",
      "3 X 2 = 6\n",
      "3 X 3 = 9\n",
      "3 X 4 = 12\n",
      "3 X 5 = 15\n",
      "3 X 6 = 18\n",
      "3 X 7 = 21\n",
      "3 X 8 = 24\n",
      "3 X 9 = 27\n",
      "3 X 10 = 30\n"
     ]
    }
   ],
   "source": [
    "#4.\tWrite a program to generate the multiplication table of a number provided by the user.\n",
    "#The output should be in the format: 2 x 2 = 4 and so on.\n",
    "\n",
    "table=int(input(\"Enter the no. to print that table: \"))\n",
    "i=1\n",
    "while i<=10:\n",
    "    m=i*table\n",
    "    print(f\"{table} X {i} = {m}\")\n",
    "    i+=1"
   ]
  },
  {
   "cell_type": "code",
   "execution_count": 11,
   "id": "0131b74d-6c47-4996-9c31-63342c389ab6",
   "metadata": {},
   "outputs": [
    {
     "name": "stdin",
     "output_type": "stream",
     "text": [
      "Enter a number:  1221\n"
     ]
    },
    {
     "name": "stdout",
     "output_type": "stream",
     "text": [
      "1221 is palindrome\n"
     ]
    }
   ],
   "source": [
    "#5.\tWrite a program to check whether a number provided by the user is a palindrome.\n",
    "\n",
    "pali=input(\"Enter a number: \")\n",
    "i=0\n",
    "m=\"\"\n",
    "while i<=len(pali)-1:\n",
    "    m=pali[i]+m\n",
    "    i+=1\n",
    "if m==pali:\n",
    "        print(f\"{m} is palindrome\")\n",
    "else:\n",
    "        print(f\"{m} in not palindrome\")\n",
    "    "
   ]
  },
  {
   "cell_type": "code",
   "execution_count": 3,
   "id": "e3837e33-6113-4da7-be65-0105b4f9c47e",
   "metadata": {},
   "outputs": [
    {
     "name": "stdin",
     "output_type": "stream",
     "text": [
      "Enter a number to generate fibonacci series:  10\n"
     ]
    },
    {
     "name": "stdout",
     "output_type": "stream",
     "text": [
      "0 1 1 2 3 5 8 13 21 34 55 "
     ]
    }
   ],
   "source": [
    "#6.\tWrite a program to generate the Fibonacci series up to a number provided by the user.\n",
    "\n",
    "num=int(input(\"Enter a number to generate fibonacci series: \"))\n",
    "i=0\n",
    "m=0\n",
    "n=1\n",
    "while i<=num:\n",
    "    print(m, end=\" \")\n",
    "    m,n=n,m+n\n",
    "    i+=1"
   ]
  },
  {
   "cell_type": "code",
   "execution_count": null,
   "id": "69f0be66-39fd-404c-872f-a4da791b9db0",
   "metadata": {},
   "outputs": [],
   "source": [
    "#7.\tWrite a program to check whether a number provided by the user is prime.\n",
    "a=int(input(\"Enter a number:\"))\n",
    "i=2\n",
    "while i*i<=a:\n",
    "        if a%i==0:\n",
    "           print(\"number is not prime\")\n",
    "           i+=1\n",
    "        else:\n",
    "           print(\"Number is prime\")\n",
    "           i+=1"
   ]
  },
  {
   "cell_type": "code",
   "execution_count": 2,
   "id": "cca43dd5-08d0-4dcb-8b72-37a8f033f1d4",
   "metadata": {},
   "outputs": [
    {
     "name": "stdin",
     "output_type": "stream",
     "text": [
      "Enter the range that you want to square of the numbers:  10\n"
     ]
    },
    {
     "name": "stdout",
     "output_type": "stream",
     "text": [
      "Squares of 1 : 1\n",
      "Squares of 2 : 4\n",
      "Squares of 3 : 9\n",
      "Squares of 4 : 16\n",
      "Squares of 5 : 25\n",
      "Squares of 6 : 36\n",
      "Squares of 7 : 49\n",
      "Squares of 8 : 64\n",
      "Squares of 9 : 81\n",
      "Squares of 10 : 100\n"
     ]
    }
   ],
   "source": [
    "#8.\tWrite a program to generate the squares of the first 10 natural numbers.\n",
    "# The output should be in the format: Square of 2: 4 and so on.\n",
    "\n",
    "a=int(input(\"Enter the range that you want to square of the numbers: \"))\n",
    "i=1\n",
    "while i<=a:\n",
    "    m=i**2\n",
    "    print(f\"Squares of {i} : {m}\")\n",
    "    i+=1"
   ]
  },
  {
   "cell_type": "code",
   "execution_count": 8,
   "id": "4ef870eb-cf1a-46f5-a106-cffc88e23730",
   "metadata": {},
   "outputs": [
    {
     "name": "stdin",
     "output_type": "stream",
     "text": [
      "Enter a more then 2 digit number:  1234567897654\n"
     ]
    },
    {
     "name": "stdout",
     "output_type": "stream",
     "text": [
      "67\n"
     ]
    }
   ],
   "source": [
    "# 9.\tWrite a program to calculate the sum of the digits of a number provided by the user.\n",
    "\n",
    "num=input(\"Enter a more then 2 digit number: \")\n",
    "i=0\n",
    "sum1=0\n",
    "while i<=len(num)-1:\n",
    "    sum1=sum1+int(num[i])\n",
    "    i+=1\n",
    "print(sum1)"
   ]
  },
  {
   "cell_type": "code",
   "execution_count": 6,
   "id": "e415a3e8-4442-4dd1-8f39-83575ff7b6bc",
   "metadata": {},
   "outputs": [
    {
     "name": "stdin",
     "output_type": "stream",
     "text": [
      "Enter a string:  asddsa\n"
     ]
    },
    {
     "name": "stdout",
     "output_type": "stream",
     "text": [
      "string is palindrome\n"
     ]
    }
   ],
   "source": [
    "#10. Write a program to check whether a number provided by the user is a palindrome.\n",
    "\n",
    "string=input(\"Enter a string: \")\n",
    "i=0\n",
    "m=\"\"\n",
    "while i<=len(string)-1:\n",
    "    m=string[i]+m\n",
    "    i+=1\n",
    "if string==m:\n",
    "        print(\"string is palindrome\")\n",
    "else:\n",
    "        print(\"String not palindrome\")"
   ]
  },
  {
   "cell_type": "code",
   "execution_count": 5,
   "id": "ea2e6f04-14e8-406e-982d-6c5386f83d54",
   "metadata": {},
   "outputs": [
    {
     "name": "stdin",
     "output_type": "stream",
     "text": [
      "Enter a starting point:  1\n",
      "Enter the end point:  9\n"
     ]
    },
    {
     "name": "stdout",
     "output_type": "stream",
     "text": [
      "36\n"
     ]
    }
   ],
   "source": [
    "#11. Write a program that takes the starting and ending points of a range as input from the user, \n",
    "# then calculates the sum of all numbers within that range.\n",
    "\n",
    "start=int(input(\"Enter a starting point: \"))\n",
    "end=int(input(\"Enter the end point: \"))\n",
    "i=0\n",
    "while start<end:\n",
    "    i=i+start\n",
    "    start+=1\n",
    "print(i)"
   ]
  },
  {
   "cell_type": "code",
   "execution_count": 6,
   "id": "c0f2229c-42b9-4caa-a648-b811f3199b60",
   "metadata": {},
   "outputs": [
    {
     "name": "stdin",
     "output_type": "stream",
     "text": [
      "Enter a starting point:  2\n",
      "Enter the end point:  6\n"
     ]
    },
    {
     "name": "stdout",
     "output_type": "stream",
     "text": [
      "120\n"
     ]
    }
   ],
   "source": [
    "#12.\tWrite a program that takes the starting and ending points of a range as input from the user,\n",
    "# then calculates the product of all numbers within that range.\n",
    "\n",
    "start=int(input(\"Enter a starting point: \"))\n",
    "end=int(input(\"Enter the end point: \"))\n",
    "i=1\n",
    "while start<end:\n",
    "    i=i*start\n",
    "    start+=1\n",
    "print(i)"
   ]
  },
  {
   "cell_type": "code",
   "execution_count": 1,
   "id": "81149af8-d1a6-480b-8a95-7ba79738482c",
   "metadata": {},
   "outputs": [
    {
     "name": "stdout",
     "output_type": "stream",
     "text": [
      "y\n"
     ]
    }
   ],
   "source": [
    "#13. Write a program to find the greatest character in the string \"python\".\n",
    "\n",
    "char=\"python\"\n",
    "i=1\n",
    "count=0\n",
    "m=char[0]\n",
    "while i<=len(char)-1:\n",
    "    if char[i]>m:\n",
    "        m=char[i]\n",
    "    i+=1\n",
    "print(m)      "
   ]
  },
  {
   "cell_type": "code",
   "execution_count": 2,
   "id": "d39d7c32-dfb3-4987-a245-0a9ac07286eb",
   "metadata": {},
   "outputs": [
    {
     "name": "stdin",
     "output_type": "stream",
     "text": [
      "Enter a character to find in the string:  p\n"
     ]
    },
    {
     "name": "stdout",
     "output_type": "stream",
     "text": [
      "p: in the string\n"
     ]
    }
   ],
   "source": [
    "#14. Write a program that allows the user to search for a character within the string \"Python is a programming language\".\n",
    "\n",
    "name=\"Python is a programming language\"\n",
    "search=input(\"Enter a character to find in the string: \")\n",
    "i=1\n",
    "while i<=len(search):\n",
    "    if search in name:\n",
    "        print(f\"{search}: in the string\")\n",
    "        #i+=1\n",
    "    else:\n",
    "        #i+=1\n",
    "        print(\"Not in the string\")\n",
    "    i+=1\n",
    "\n",
    "\n",
    "    "
   ]
  },
  {
   "cell_type": "code",
   "execution_count": 11,
   "id": "f89aa318-875c-4aba-8a49-d9faa11ead77",
   "metadata": {},
   "outputs": [
    {
     "name": "stdin",
     "output_type": "stream",
     "text": [
      "Enter the string that contain vowels and consonants:  I am an engineer\n"
     ]
    },
    {
     "name": "stdout",
     "output_type": "stream",
     "text": [
      "vowels Iaaeiee\n",
      "consonant  m n ngn\n"
     ]
    }
   ],
   "source": [
    "#15. Write a program to filter out all vowels and consonants from a string provided by the user.\n",
    "filter1=input(\"Enter the string that contain vowels and consonants: \")\n",
    "i=0\n",
    "x=\"\"\n",
    "y=\"\"\n",
    "while i<len(filter1)-1:\n",
    "        pattern=\"aioueAIOUE\"\n",
    "        if filter1[i] in pattern:\n",
    "            #print(\"vowels\", filter1[i])\n",
    "            x=x+filter1[i]\n",
    "            i+=1\n",
    "        else:\n",
    "              y=y+filter1[i]\n",
    "              i+=1\n",
    "print(\"vowels\", x)\n",
    "print(\"consonant\", y)"
   ]
  },
  {
   "cell_type": "code",
   "execution_count": 31,
   "id": "bf38aaff-78a4-4a82-9116-3ec1e9a3b8e4",
   "metadata": {},
   "outputs": [
    {
     "name": "stdin",
     "output_type": "stream",
     "text": [
      "Enter a string:  engineer\n"
     ]
    },
    {
     "name": "stdout",
     "output_type": "stream",
     "text": [
      "nee\n"
     ]
    }
   ],
   "source": [
    "#16. Write a program to filter out duplicate characters from a string provided by the user.\n",
    "\n",
    "name=input(\"Enter a string: \")\n",
    "dupli=\"\"\n",
    "sum1=\"\"\n",
    "i=0\n",
    "while i<=len(name)-1:\n",
    "    if name[i] not in sum1:\n",
    "        sum1=sum1+name[i]\n",
    "        i+=1\n",
    "    else:\n",
    "        dupli=dupli+name[i]\n",
    "        i+=1\n",
    "\n",
    "print(dupli)"
   ]
  },
  {
   "cell_type": "code",
   "execution_count": 2,
   "id": "be29a897-1194-4035-b14b-115708f1ea2e",
   "metadata": {},
   "outputs": [
    {
     "name": "stdout",
     "output_type": "stream",
     "text": [
      "y\n"
     ]
    }
   ],
   "source": [
    "#17. Write a program to find the greatest character in the string \"python\".\n",
    "\n",
    "char=\"python\"\n",
    "i=1\n",
    "count=0\n",
    "m=char[0]\n",
    "while i<=len(char)-1:\n",
    "    if char[i]>m:\n",
    "        m=char[i]\n",
    "    i+=1\n",
    "print(m)      "
   ]
  },
  {
   "cell_type": "code",
   "execution_count": 1,
   "id": "d4ac3089-60a3-495f-80ff-efa38da760f8",
   "metadata": {},
   "outputs": [
    {
     "name": "stdout",
     "output_type": "stream",
     "text": [
      "Dreaer nfotech"
     ]
    }
   ],
   "source": [
    "#18. Write a program to display all letters except 'm' and 'i' from the string \"Dreamer Infotech\".\n",
    "\n",
    "string1=\"Dreamer Infotech\"\n",
    "i=0\n",
    "while i<=len(string1)-1:\n",
    "    if string1[i]==\"m\" or string1[i]==\"I\":\n",
    "        i+=1\n",
    "    else:\n",
    "        print(string1[i], end=\"\")\n",
    "\n",
    "        i+=1"
   ]
  },
  {
   "cell_type": "code",
   "execution_count": 2,
   "id": "f9c6e390-35ff-4a12-96ce-d05cf160e63a",
   "metadata": {},
   "outputs": [
    {
     "name": "stdin",
     "output_type": "stream",
     "text": [
      "Enter a string:  ashish\n"
     ]
    },
    {
     "name": "stdout",
     "output_type": "stream",
     "text": [
      "sih"
     ]
    }
   ],
   "source": [
    "#19. Write a program to print alternate characters of a string provided by the user.\n",
    "\n",
    "name=input(\"Enter a string: \")\n",
    "i=1\n",
    "while i<=len(name)-1:\n",
    "    if i%2!=0:\n",
    "        print(name[i], end=\"\")\n",
    "    i+=1"
   ]
  },
  {
   "cell_type": "code",
   "execution_count": 9,
   "id": "d1b32b84-7b23-4a5c-b90f-704a6d30cd3f",
   "metadata": {},
   "outputs": [
    {
     "name": "stdin",
     "output_type": "stream",
     "text": [
      "Enter a string:  DevOps\n"
     ]
    },
    {
     "name": "stdout",
     "output_type": "stream",
     "text": [
      "Reverse string is spOveD\n"
     ]
    }
   ],
   "source": [
    "#20. Write a program to reverse a string provided by the user.\n",
    "str1=input(\"Enter a string: \")\n",
    "i=0\n",
    "rev=\"\"\n",
    "while i<=len(str1)-1:\n",
    "    rev=str1[i]+rev\n",
    "    i+=1\n",
    "    \n",
    "print(f\"Reverse string is {rev}\")"
   ]
  }
 ],
 "metadata": {
  "kernelspec": {
   "display_name": "Python 3 (ipykernel)",
   "language": "python",
   "name": "python3"
  },
  "language_info": {
   "codemirror_mode": {
    "name": "ipython",
    "version": 3
   },
   "file_extension": ".py",
   "mimetype": "text/x-python",
   "name": "python",
   "nbconvert_exporter": "python",
   "pygments_lexer": "ipython3",
   "version": "3.13.3"
  }
 },
 "nbformat": 4,
 "nbformat_minor": 5
}
